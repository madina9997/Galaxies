{
 "cells": [
  {
   "cell_type": "code",
   "execution_count": 1,
   "metadata": {},
   "outputs": [],
   "source": [
    "import pandas as pd\n",
    "import numpy as np\n",
    "import os"
   ]
  },
  {
   "cell_type": "code",
   "execution_count": 2,
   "metadata": {},
   "outputs": [],
   "source": [
    "catalog = pd.read_csv('C:/Users/madin/OneDrive/Документы/COURSE_PROJECT_galaxies/new_data.csv')"
   ]
  },
  {
   "cell_type": "code",
   "execution_count": 5,
   "metadata": {},
   "outputs": [
    {
     "name": "stdout",
     "output_type": "stream",
     "text": [
      "4105516\n",
      "560\n"
     ]
    }
   ],
   "source": [
    "print(len(catalog))\n",
    "print(len(catalog.columns))"
   ]
  },
  {
   "cell_type": "code",
   "execution_count": 4,
   "metadata": {},
   "outputs": [],
   "source": [
    "for i in range(100,501,200):\n",
    "    for j in range(1,4):\n",
    "        reduced_catalog = catalog.sample(n = i)\n",
    "        reduced_catalog.dropna(axis=1, thresh=0.5*i)\n",
    "        reduced_catalog.to_csv(r'C:/Users/madin/OneDrive/Документы/COURSE_PROJECT_galaxies/reduced_catalog_for_prototyping/reduced_data_'+str(i)+\"rows_v\"+str(j)+'.csv')"
   ]
  },
  {
   "cell_type": "markdown",
   "metadata": {},
   "source": [
    "looking at samples\n"
   ]
  },
  {
   "cell_type": "code",
   "execution_count": 49,
   "metadata": {},
   "outputs": [],
   "source": [
    "def Descript(red_cat):\n",
    "    i=red_cat.shape[0]\n",
    "    col_num = red_cat.shape[1]\n",
    "    for perc in [10,20,30,50,70,100]:\n",
    "        tmp=red_cat.dropna(axis=1, thresh=(perc/100)*i).shape[1]\n",
    "        print(\"amount of columns which is filled not less than \"+str(perc)+\"% is \"+str(tmp)+\n",
    "             \" (\"+str(round(tmp / col_num ,2))+\"%)\")\n",
    "    print()\n",
    "\n",
    "def Descr_stat_on_colums(path_to_files):\n",
    "    for i in os.listdir(path_to_files):\n",
    "        if i.endswith('.csv'):\n",
    "            red_cat = pd.read_csv(path_to_files+i)\n",
    "            Descript(red_cat)\n",
    "\n",
    "def Descript_rows(red_cat):\n",
    "    i=red_cat.shape[1]\n",
    "    for perc in [10,20,30,50,70,100]:\n",
    "        print(\"amount of rows which is filled not less than \"+str(perc)+\"% is \"+str(red_cat.dropna(axis=0, thresh=(perc/100)*i).shape[0]))\n",
    "    print()\n",
    "            \n",
    "            \n",
    "def Descr_stat_on_rows(path_to_files):\n",
    "    for i in os.listdir(path_to_files):\n",
    "        if i.endswith('.csv'):\n",
    "            red_cat = pd.read_csv(path_to_files+i)\n",
    "            Descript_rows(red_cat)\n",
    "            "
   ]
  },
  {
   "cell_type": "code",
   "execution_count": 50,
   "metadata": {},
   "outputs": [
    {
     "name": "stdout",
     "output_type": "stream",
     "text": [
      "amount of columns which is filled not less than 10% is 441 (0.79%)\n",
      "amount of columns which is filled not less than 20% is 359 (0.64%)\n",
      "amount of columns which is filled not less than 30% is 305 (0.54%)\n",
      "amount of columns which is filled not less than 50% is 188 (0.34%)\n",
      "amount of columns which is filled not less than 70% is 147 (0.26%)\n",
      "amount of columns which is filled not less than 100% is 71 (0.13%)\n",
      "\n",
      "amount of columns which is filled not less than 10% is 359 (0.64%)\n",
      "amount of columns which is filled not less than 20% is 359 (0.64%)\n",
      "amount of columns which is filled not less than 30% is 303 (0.54%)\n",
      "amount of columns which is filled not less than 50% is 188 (0.34%)\n",
      "amount of columns which is filled not less than 70% is 147 (0.26%)\n",
      "amount of columns which is filled not less than 100% is 71 (0.13%)\n",
      "\n",
      "amount of columns which is filled not less than 10% is 441 (0.79%)\n",
      "amount of columns which is filled not less than 20% is 359 (0.64%)\n",
      "amount of columns which is filled not less than 30% is 302 (0.54%)\n",
      "amount of columns which is filled not less than 50% is 188 (0.34%)\n",
      "amount of columns which is filled not less than 70% is 146 (0.26%)\n",
      "amount of columns which is filled not less than 100% is 71 (0.13%)\n",
      "\n",
      "amount of columns which is filled not less than 10% is 441 (0.79%)\n",
      "amount of columns which is filled not less than 20% is 359 (0.64%)\n",
      "amount of columns which is filled not less than 30% is 303 (0.54%)\n",
      "amount of columns which is filled not less than 50% is 148 (0.26%)\n",
      "amount of columns which is filled not less than 70% is 147 (0.26%)\n",
      "amount of columns which is filled not less than 100% is 71 (0.13%)\n",
      "\n",
      "amount of columns which is filled not less than 10% is 409 (0.73%)\n",
      "amount of columns which is filled not less than 20% is 359 (0.64%)\n",
      "amount of columns which is filled not less than 30% is 303 (0.54%)\n",
      "amount of columns which is filled not less than 50% is 188 (0.34%)\n",
      "amount of columns which is filled not less than 70% is 147 (0.26%)\n",
      "amount of columns which is filled not less than 100% is 71 (0.13%)\n",
      "\n",
      "amount of columns which is filled not less than 10% is 409 (0.73%)\n",
      "amount of columns which is filled not less than 20% is 359 (0.64%)\n",
      "amount of columns which is filled not less than 30% is 303 (0.54%)\n",
      "amount of columns which is filled not less than 50% is 188 (0.34%)\n",
      "amount of columns which is filled not less than 70% is 147 (0.26%)\n",
      "amount of columns which is filled not less than 100% is 71 (0.13%)\n",
      "\n",
      "amount of columns which is filled not less than 10% is 409 (0.73%)\n",
      "amount of columns which is filled not less than 20% is 359 (0.64%)\n",
      "amount of columns which is filled not less than 30% is 303 (0.54%)\n",
      "amount of columns which is filled not less than 50% is 188 (0.34%)\n",
      "amount of columns which is filled not less than 70% is 147 (0.26%)\n",
      "amount of columns which is filled not less than 100% is 71 (0.13%)\n",
      "\n",
      "amount of columns which is filled not less than 10% is 441 (0.79%)\n",
      "amount of columns which is filled not less than 20% is 359 (0.64%)\n",
      "amount of columns which is filled not less than 30% is 303 (0.54%)\n",
      "amount of columns which is filled not less than 50% is 188 (0.34%)\n",
      "amount of columns which is filled not less than 70% is 146 (0.26%)\n",
      "amount of columns which is filled not less than 100% is 71 (0.13%)\n",
      "\n",
      "amount of columns which is filled not less than 10% is 441 (0.79%)\n",
      "amount of columns which is filled not less than 20% is 359 (0.64%)\n",
      "amount of columns which is filled not less than 30% is 303 (0.54%)\n",
      "amount of columns which is filled not less than 50% is 188 (0.34%)\n",
      "amount of columns which is filled not less than 70% is 146 (0.26%)\n",
      "amount of columns which is filled not less than 100% is 71 (0.13%)\n",
      "\n"
     ]
    }
   ],
   "source": [
    "path='C:/Users/madin/OneDrive/Документы/COURSE_PROJECT_galaxies/reduced_catalog_for_prototyping/'\n",
    "Descr_stat_on_colums(path)"
   ]
  },
  {
   "cell_type": "markdown",
   "metadata": {},
   "source": [
    "Desicion: to eliminate columns which has NaN"
   ]
  },
  {
   "cell_type": "code",
   "execution_count": 2,
   "metadata": {},
   "outputs": [],
   "source": [
    "def Write_red_cat(data,dir_):\n",
    "    for i in range(200,601,200):\n",
    "        for j in range(1,4):\n",
    "            reduced_catalog = data.sample(n = i)\n",
    "            reduced_catalog = reduced_catalog.dropna(axis=1,how='any')\n",
    "            reduced_catalog = reduced_catalog.dropna(axis=0,how='any')\n",
    "            num_rows= reduced_catalog.shape[0]\n",
    "            reduced_catalog.to_csv(dir_+'reduced_complete_data_'+str(num_rows)+\"rows_v\"+str(j)+'.csv')"
   ]
  },
  {
   "cell_type": "code",
   "execution_count": 3,
   "metadata": {},
   "outputs": [
    {
     "ename": "NameError",
     "evalue": "name 'catalog' is not defined",
     "output_type": "error",
     "traceback": [
      "\u001b[1;31m---------------------------------------------------------------------------\u001b[0m",
      "\u001b[1;31mNameError\u001b[0m                                 Traceback (most recent call last)",
      "\u001b[1;32m<ipython-input-3-ff10173a10da>\u001b[0m in \u001b[0;36m<module>\u001b[1;34m\u001b[0m\n\u001b[0;32m      1\u001b[0m \u001b[0mdir_for_complete_data\u001b[0m \u001b[1;33m=\u001b[0m \u001b[1;34m'C:/Users/madin/OneDrive/Документы/COURSE_PROJECT_galaxies/reduced_catalog_WITHOUT_NaN_for_prototyping/'\u001b[0m\u001b[1;33m\u001b[0m\u001b[1;33m\u001b[0m\u001b[0m\n\u001b[1;32m----> 2\u001b[1;33m \u001b[0mWrite_red_cat\u001b[0m\u001b[1;33m(\u001b[0m\u001b[0mcatalog\u001b[0m\u001b[1;33m,\u001b[0m\u001b[0mdir_for_complete_data\u001b[0m\u001b[1;33m)\u001b[0m\u001b[1;33m\u001b[0m\u001b[1;33m\u001b[0m\u001b[0m\n\u001b[0m",
      "\u001b[1;31mNameError\u001b[0m: name 'catalog' is not defined"
     ]
    }
   ],
   "source": [
    "dir_for_complete_data = 'C:/Users/madin/OneDrive/Документы/COURSE_PROJECT_galaxies/reduced_catalog_WITHOUT_NaN_for_prototyping/'\n",
    "Write_red_cat(catalog,dir_for_complete_data)"
   ]
  },
  {
   "cell_type": "markdown",
   "metadata": {},
   "source": [
    "checking what was obtained"
   ]
  },
  {
   "cell_type": "code",
   "execution_count": null,
   "metadata": {},
   "outputs": [],
   "source": []
  }
 ],
 "metadata": {
  "kernelspec": {
   "display_name": "Python 3",
   "language": "python",
   "name": "python3"
  },
  "language_info": {
   "codemirror_mode": {
    "name": "ipython",
    "version": 3
   },
   "file_extension": ".py",
   "mimetype": "text/x-python",
   "name": "python",
   "nbconvert_exporter": "python",
   "pygments_lexer": "ipython3",
   "version": "3.7.4"
  }
 },
 "nbformat": 4,
 "nbformat_minor": 2
}
