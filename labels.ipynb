{
 "cells": [
  {
   "cell_type": "code",
   "execution_count": 1,
   "metadata": {},
   "outputs": [],
   "source": [
    "import pandas as pd\n",
    "import matplotlib.pyplot as plt"
   ]
  },
  {
   "cell_type": "code",
   "execution_count": 63,
   "metadata": {},
   "outputs": [],
   "source": [
    "alena = pd.read_csv('C:/Users/madin/OneDrive/Документы/COURSE_PROJECT_galaxies/alena/rcsed_iGrID/rcsed_iGrID.csv')"
   ]
  },
  {
   "cell_type": "code",
   "execution_count": 64,
   "metadata": {},
   "outputs": [
    {
     "name": "stdout",
     "output_type": "stream",
     "text": [
      "(4105516, 1)\n"
     ]
    }
   ],
   "source": [
    "print(alena.shape)"
   ]
  },
  {
   "cell_type": "code",
   "execution_count": 65,
   "metadata": {},
   "outputs": [],
   "source": [
    "df= alena.dropna()"
   ]
  },
  {
   "cell_type": "code",
   "execution_count": 66,
   "metadata": {},
   "outputs": [
    {
     "name": "stdout",
     "output_type": "stream",
     "text": [
      "(401148, 1)\n"
     ]
    }
   ],
   "source": [
    "print(df.shape)"
   ]
  },
  {
   "cell_type": "code",
   "execution_count": 67,
   "metadata": {},
   "outputs": [
    {
     "name": "stdout",
     "output_type": "stream",
     "text": [
      "       iGrID\n",
      "59   50126.0\n",
      "62  129111.0\n",
      "72  212738.0\n",
      "92   51045.0\n",
      "99  203801.0\n"
     ]
    }
   ],
   "source": [
    "print(df.head())"
   ]
  },
  {
   "cell_type": "code",
   "execution_count": 8,
   "metadata": {},
   "outputs": [],
   "source": [
    "df.to_csv('C:/Users/madin/OneDrive/Документы/COURSE_PROJECT_galaxies/JOIN/alena_clean.csv')"
   ]
  },
  {
   "cell_type": "code",
   "execution_count": 5,
   "metadata": {},
   "outputs": [],
   "source": [
    "labels = pd.read_csv('C:/Users/madin/OneDrive/Документы/COURSE_PROJECT_galaxies/JOIN/alena_clean.csv')"
   ]
  },
  {
   "cell_type": "code",
   "execution_count": 8,
   "metadata": {},
   "outputs": [
    {
     "name": "stdout",
     "output_type": "stream",
     "text": [
      "401148\n",
      "<class 'list'>\n",
      "[59, 62, 72, 92, 99]\n"
     ]
    }
   ],
   "source": [
    "# print(labels.head)\n",
    "# print(labels.columns)\n",
    "print(len(labels['Unnamed: 0'].to_list()))\n",
    "print(type(labels['Unnamed: 0'].to_list()))\n",
    "print(labels['Unnamed: 0'].to_list()[:5])\n",
    "    "
   ]
  },
  {
   "cell_type": "code",
   "execution_count": 4,
   "metadata": {},
   "outputs": [],
   "source": [
    "rcsed = pd.read_csv('C:/Users/madin/OneDrive/Документы/COURSE_PROJECT_galaxies/new_data.csv')"
   ]
  },
  {
   "cell_type": "code",
   "execution_count": 13,
   "metadata": {},
   "outputs": [],
   "source": [
    "rcsed_labeled = rcsed.iloc[labels['Unnamed: 0'].to_list(),:]"
   ]
  },
  {
   "cell_type": "code",
   "execution_count": 2,
   "metadata": {},
   "outputs": [
    {
     "ename": "NameError",
     "evalue": "name 'rcsed_labeled' is not defined",
     "output_type": "error",
     "traceback": [
      "\u001b[1;31m---------------------------------------------------------------------------\u001b[0m",
      "\u001b[1;31mNameError\u001b[0m                                 Traceback (most recent call last)",
      "\u001b[1;32m<ipython-input-2-070eb2c21f3f>\u001b[0m in \u001b[0;36m<module>\u001b[1;34m\u001b[0m\n\u001b[1;32m----> 1\u001b[1;33m \u001b[0mrcsed_labeled\u001b[0m\u001b[1;33m.\u001b[0m\u001b[0mto_csv\u001b[0m\u001b[1;33m(\u001b[0m\u001b[1;34m'C:/Users/madin/OneDrive/Документы/COURSE_PROJECT_galaxies/JOIN/rcsed_labeled_reduced.csv'\u001b[0m\u001b[1;33m)\u001b[0m\u001b[1;33m\u001b[0m\u001b[1;33m\u001b[0m\u001b[0m\n\u001b[0m",
      "\u001b[1;31mNameError\u001b[0m: name 'rcsed_labeled' is not defined"
     ]
    }
   ],
   "source": [
    "rcsed_labeled.to_csv('C:/Users/madin/OneDrive/Документы/COURSE_PROJECT_galaxies/JOIN/rcsed_labeled_reduced.csv')"
   ]
  },
  {
   "cell_type": "code",
   "execution_count": 2,
   "metadata": {},
   "outputs": [],
   "source": [
    "rcsed_labeled = pd.read_csv('C:/Users/madin/OneDrive/Документы/COURSE_PROJECT_galaxies/JOIN/rcsed_labeled_reduced.csv')"
   ]
  },
  {
   "cell_type": "code",
   "execution_count": 25,
   "metadata": {},
   "outputs": [
    {
     "name": "stdout",
     "output_type": "stream",
     "text": [
      "(401148, 548)\n",
      "['ra', 'dec', 'z_sdss', 'zerr_sdss', 'specObjID_sdss', 'bestObjID_sdss', 'plate_sdss', 'mjd_sdss', 'fiberID_sdss', 'z_2df', 'q_z_2df', 'z_6df', 'quality_6df', 'specid_6df', 'recno_uzc', 'z_uzc', 'z_err_uzc', 'z_cfa', 'z_err_cfa', 'z_hectospec', 'z_lamost', 'z_err_lamost', 'obsid_lamost', 'lmjd_lamost', 'mjd_lamost', 'spid_lamost', 'fiberid_lamost', 'z_lega_c', 'f_z_lega_c', 'f_spec_lega_c', 'Z_deep2', 'OBJNO_deep2', 'Z_deep3', 'OBJNO_deep3', 'z_wigglez', 'Q_wigglez', 'Z_gama', 'NQ_gama', 'E_bv', 'A_u_sdss', 'A_g_sdss', 'A_r_sdss', 'A_i_sdss', 'A_z_sdss', 'A_g_des', 'A_r_des', 'A_i_des', 'A_z_des', 'A_u_skymapper', 'A_v_skymapper', 'A_g_skymapper', 'A_r_skymapper', 'A_i_skymapper', 'A_z_skymapper', 'A_Y_ukidss', 'A_J_ukidss', 'A_H_ukidss', 'A_K_ukidss', 'A_Z_viking', 'A_Y_viking', 'A_J_viking', 'A_H_viking', 'A_ks_viking', 'A_g_panstarrs', 'A_r_panstarrs', 'A_i_pansatrrs', 'A_z_panstarrs', 'A_y_panstarrs', 'A_w1_wise', 'A_w2_wise', 'A_w3_wise', 'A_w4_wise', 'A_NUV_galex', 'A_FUV_galex', 'extinction_u', 'extinction_g', 'extinction_r', 'extinction_i', 'extinction_z', 'fibermag_u_sdss', 'fibermag_g_sdss', 'fibermag_r_sdss', 'fibermag_i_sdss', 'fibermag_z_sdss', 'fibermagerr_u_sdss', 'fibermagerr_g_sdss', 'fibermagerr_r_sdss', 'fibermagerr_i_sdss', 'fibermagerr_z_sdss', 'fiber2mag_u_sdss', 'fiber2mag_g_sdss', 'fiber2mag_r_sdss', 'fiber2mag_i_sdss', 'fiber2mag_z_sdss', 'fiber2magerr_u_sdss', 'fiber2magerr_g_sdss', 'fiber2magerr_r_sdss', 'fiber2magerr_i_sdss', 'fiber2magerr_z_sdss', 'petromag_u_sdss', 'petromag_g_sdss', 'petromag_r_sdss', 'petromag_i_sdss', 'petromag_z_sdss', 'petromagerr_u_sdss', 'petromagerr_g_sdss', 'petromagerr_r_sdss', 'petromagerr_i_sdss', 'petromagerr_z_sdss', 'petror50_u_sdss', 'petror50_g_sdss', 'petror50_r_sdss', 'petror50_i_sdss', 'petror50_z_sdss', 'magerr_petro_g_des', 'magerr_petro_r_des', 'magerr_petro_i_des', 'magerr_petro_z_des', 'magerr_petro_y_des', 'mag_petro_g_des', 'mag_petro_r_des', 'mag_petro_i_des', 'mag_petro_z_des', 'mag_petro_y_des', 'petro_radius_g_des', 'petro_radius_r_des', 'petro_radius_i_des', 'petro_radius_z_des', 'petro_radius_y_des', 'mag_aper_8_g_des', 'magerr_aper_8_g_des', 'mag_aper_8_r_des', 'magerr_aper_8_r_des', 'mag_aper_8_i_des', 'magerr_aper_8_i_des', 'mag_aper_8_z_des', 'magerr_aper_8_z_des', 'mag_aper_8_y_des', 'magerr_aper_8_y_des', 'mag_auto_g_des', 'magerr_auto_g_des', 'mag_auto_r_des', 'magerr_auto_r_des', 'mag_auto_i_des', 'magerr_auto_i_des', 'mag_auto_z_des', 'magerr_auto_z_des', 'mag_auto_y_des', 'magerr_auto_y_des', 'mag_aper_8_g_dered', 'mag_aper_8_r_dered', 'mag_aper_8_i_dered', 'mag_aper_8_z_dered', 'mag_aper_8_y_dered', 'mag_auto_g_dered', 'mag_auto_r_dered', 'mag_auto_i_dered', 'mag_auto_z_dered', 'mag_auto_y_dered', 'kron_radius_g_des', 'kron_radius_r_des', 'kron_radius_i_des', 'kron_radius_z_des', 'kron_radius_y_des', 'umag_kids', 'e_umag_kids', 'gmag_kids', 'e_gmag_kids', 'rmag_kids', 'e_rmag_kids', 'imag_kids', 'e_imag_kids', 'u_petro_skymapper', 'e_u_petro_skymapper', 'v_petro_skymapper', 'e_v_petro_skymapper', 'g_petro_skymapper', 'e_g_petro_skymapper', 'r_petro_skymapper', 'e_r_petro_skymapper', 'i_petro_skymapper', 'e_i_petro_skymapper', 'z_petro_skymapper', 'e_z_petro_skymapper', 'JPETROMAG_uhs', 'JPETROMAGERR_uhs', 'JAPERMAG3_uhs', 'JAPERMAG3ERR_uhs', 'JAPERMAG4_uhs', 'JAPERMAG4ERR_uhs', 'JAPERMAG6_uhs', 'JAPERMAG6ERR_uhs', 'YPETROMAG_ukidss', 'YPETROMAGERR_ukidss', 'YAPERMAG3_ukidss', 'YAPERMAG3ERR_ukidss', 'YAPERMAG4_ukidss', 'YAPERMAG4ERR_ukidss', 'YAPERMAG6_ukidss', 'YAPERMAG6ERR_ukidss', 'JPETROMAG_ukidss', 'JPETROMAGERR_ukidss', 'JAPERMAG3_ukidss', 'JAPERMAG3ERR_ukidss', 'JAPERMAG4_ukidss', 'JAPERMAG4ERR_ukidss', 'JAPERMAG6_ukidss', 'JAPERMAG6ERR_ukidss', 'J_1PETROMAG_ukidss', 'J_1PETROMAGERR_ukidss', 'J_1APERMAG3_ukidss', 'J_1APERMAG3ERR_ukidss', 'J_1APERMAG4_ukidss', 'J_1APERMAG4ERR_ukidss', 'J_1APERMAG6_ukidss', 'J_1APERMAG6ERR_ukidss', 'J_2PETROMAG_ukidss', 'J_2PETROMAGERR_ukidss', 'J_2APERMAG3_ukidss', 'J_2APERMAG3ERR_ukidss', 'J_2APERMAG4_ukidss', 'J_2APERMAG4ERR_ukidss', 'J_2APERMAG6_ukidss', 'J_2APERMAG6ERR_ukidss', 'HPETROMAG_ukidss', 'HPETROMAGERR_ukidss', 'HAPERMAG3_ukidss', 'HAPERMAG3ERR_ukidss', 'HAPERMAG4_ukidss', 'HAPERMAG4ERR_ukidss', 'HAPERMAG6_ukidss', 'HAPERMAG6ERR_ukidss', 'KPETROMAG_ukidss', 'KPETROMAGERR_ukidss', 'KPSFMAG_ukidss', 'KPSFMAGERR_ukidss', 'KSERMAG2D_ukidss', 'KSERMAG2DERR_ukidss', 'KAPERMAG3_ukidss', 'KAPERMAG3ERR_ukidss', 'KAPERMAG4_ukidss', 'KAPERMAG4ERR_ukidss', 'KAPERMAG6_ukidss', 'KAPERMAG6ERR_ukidss', 'EBV_ukidss', 'AY_ukidss', 'AH_ukidss', 'AK_ukidss', 'yPetroMag_vhs', 'yPetroMagErr_vhs', 'yAperMag3_vhs', 'yAperMag3Err_vhs', 'yAperMag4_vhs', 'yAperMag4Err_vhs', 'yAperMag6_vhs', 'yAperMag6Err_vhs', 'jPetroMag_vhs', 'jPetroMagErr_vhs', 'jAperMag3_vhs', 'jAperMag3Err_vhs', 'jAperMag4_vhs', 'jAperMag4Err_vhs', 'jAperMag6_vhs', 'jAperMag6Err_vhs', 'hPetroMag_vhs', 'hPetroMagErr_vhs', 'hAperMag3_vhs', 'hAperMag3Err_vhs', 'hAperMag4_vhs', 'hAperMag4Err_vhs', 'hAperMag6_vhs', 'hAperMag6Err_vhs', 'ksPetroMag_vhs', 'ksPetroMagErr_vhs', 'ksAperMag3_vhs', 'ksAperMag3Err_vhs', 'ksAperMag4_vhs', 'ksAperMag4Err_vhs', 'ksAperMag6_vhs', 'ksAperMag6Err_vhs', 'ZPETROMAG_viking', 'ZPETROMAGERR_viking', 'ZAPERMAG3_viking', 'ZAPERMAG3ERR_viking', 'ZAPERMAG4_viking', 'ZAPERMAG4ERR_viking', 'ZAPERMAG6_viking', 'ZAPERMAG6ERR_viking', 'YPETROMAG_viking', 'YPETROMAGERR_viking', 'YAPERMAG3_viking', 'YAPERMAG3ERR_viking', 'YAPERMAG4_viking', 'YAPERMAG4ERR_viking', 'YAPERMAG6_viking', 'YAPERMAG6ERR_viking', 'JPETROMAG_viking', 'JPETROMAGERR_viking', 'JAPERMAG3_viking', 'JAPERMAG3ERR_viking', 'JAPERMAG4_viking', 'JAPERMAG4ERR_viking', 'JAPERMAG6_viking', 'JAPERMAG6ERR_viking', 'HPETROMAG_viking', 'HPETROMAGERR_viking', 'HAPERMAG3_viking', 'HAPERMAG3ERR_viking', 'HAPERMAG4_viking', 'HAPERMAG4ERR_viking', 'HAPERMAG6_viking', 'HAPERMAG6ERR_viking', 'KSPETROMAG_viking', 'KSPETROMAGERR_viking', 'KSAPERMAG3_viking', 'KSAPERMAG3ERR_viking', 'KSAPERMAG4_viking', 'KSAPERMAG4ERR_viking', 'KSAPERMAG6_viking', 'KSAPERMAG6ERR_viking', 'EBV_viking', 'AZ_viking', 'AY_viking', 'AJ_viking', 'AH_viking', 'AKS_viking', 'Upmag_vst', 'e_Upmag_vst', 'Uap3_vst', 'e_Uap3_vst', 'Uap4_vst', 'e_Uap4_vst', 'Uap6_vst', 'e_Uap6_vst', 'Gpmag_vst', 'e_Gpmag_vst', 'Gap3_vst', 'e_Gap3_vst', 'Gap4_vst', 'e_Gap4_vst', 'Gap6_vst', 'e_Gap6_vst', 'Rpmag_vst', 'e_Rpmag_vst', 'Rap3_vst', 'e_Rap3_vst', 'Rap4_vst', 'e_Rap4_vst', 'Rap6_vst', 'e_Rap6_vst', 'Ipmag_vst', 'e_Ipmag_vst', 'Iap3_vst', 'e_Iap3_vst', 'Iap4_vst', 'e_Iap4_vst', 'Iap6_vst', 'e_Iap6_vst', 'Zpmag_vst', 'e_Zpmag_vst', 'Zap3_vst', 'e_Zap3_vst', 'Zap4_vst', 'e_Zap4_vst', 'Zap6_vst', 'e_Zap6_vst', 'mag_g_decals', 'mag_r_decals', 'mag_z_decals', 'mag_w1_decals', 'mag_w2_decals', 'mag_w3_decals', 'mag_w4_decals', 'fiberflux_g_decals', 'fiberflux_r_decals', 'fiberflux_z_decals', 'psfsize_g_decals', 'psfsize_r_decals', 'psfsize_z_decals', 'gMeanPSFMag_panstarrs', 'gMeanPSFMagErr_panstarrs', 'gMeanKronMag_panstarrs', 'gMeanKronMagErr_panstarrs', 'rMeanPSFMag_panstarrs', 'rMeanPSFMagErr_panstarrs', 'rMeanKronMag_panstarrs', 'rMeanKronMagErr_panstarrs', 'iMeanPSFMag_panstarrs', 'iMeanPSFMagErr_panstarrs', 'iMeanKronMag_panstarrs', 'iMeanKronMagErr_panstarrs', 'zMeanPSFMag_panstarrs', 'zMeanPSFMagErr_panstarrs', 'zMeanKronMag_panstarrs', 'zMeanKronMagErr_panstarrs', 'yMeanPSFMag_panstarrs', 'yMeanPSFMagErr_panstarrs', 'yMeanKronMag_panstarrs', 'yMeanKronMagErr_panstarrs', 'w1mag_wise', 'w1sigmag_wise', 'w1mag_1_wise', 'w1sigmag_1_wise', 'w1mag_2_wise', 'w1sigmag_2_wise', 'w1mag_3_wise', 'w1sigmag_3_wise', 'w1mag_4_wise', 'w1sigmag_4_wise', 'w1mag_5_wise', 'w1sigmag_5_wise', 'w1mag_6_wise', 'w1sigmag_6_wise', 'w1mag_7_wise', 'w1sigmag_7_wise', 'w1mag_8_wise', 'w1sigmag_8_wise', 'w2mag_wise', 'w2sigmag_wise', 'w2mag_1_wise', 'w2sigmag_1_wise', 'w2mag_2_wise', 'w2sigmag_2_wise', 'w2mag_3_wise', 'w2sigmag_3_wise', 'w2mag_4_wise', 'w2sigmag_4_wise', 'w2mag_5_wise', 'w2sigmag_5_wise', 'w2mag_6_wise', 'w2sigmag_6_wise', 'w2mag_7_wise', 'w2sigmag_7_wise', 'w2mag_8_wise', 'w2sigmag_8_wise', 'w3mag_wise', 'w3sigmag_wise', 'w3mag_1_wise', 'w3sigmag_1_wise', 'w3mag_2_wise', 'w3sigmag_2_wise', 'w3mag_3_wise', 'w3sigmag_3_wise', 'w3mag_4_wise', 'w3sigmag_4_wise', 'w3mag_5_wise', 'w3sigmag_5_wise', 'w3mag_6_wise', 'w3sigmag_6_wise', 'w3mag_7_wise', 'w3sigmag_7_wise', 'w3mag_8_wise', 'w3sigmag_8_wise', 'w4mag_wise', 'w4sigmag_wise', 'w4mag_1_wise', 'w4sigmag_1_wise', 'w4mag_2_wise', 'w4sigmag_2_wise', 'w4mag_3_wise', 'w4sigmag_3_wise', 'w4mag_4_wise', 'w4sigmag_4_wise', 'w4mag_5_wise', 'w4sigmag_5_wise', 'w4mag_6_wise', 'w4sigmag_6_wise', 'w4mag_7_wise', 'w4sigmag_7_wise', 'w4mag_8_wise', 'w4sigmag_8_wise', 'NUV_MAG_AUTO_galex', 'NUV_MAGERR_AUTO_galex', 'NUV_KRON_RADIUS_galex', 'FUV_MAG_AUTO_galex', 'FUV_MAGERR_AUTO_galex', 'FUV_KRON_RADIUS_galex', 'NUV_MAG_APER_1_galex', 'NUV_MAGERR_APER_1_galex', 'NUV_MAG_APER_2_galex', 'NUV_MAGERR_APER_2_galex', 'NUV_MAG_APER_3_galex', 'NUV_MAGERR_APER_3_galex', 'NUV_MAG_APER_4_galex', 'NUV_MAGERR_APER_4_galex', 'NUV_MAG_APER_5_galex', 'NUV_MAGERR_APER_5_galex', 'NUV_MAG_APER_6_galex', 'NUV_MAGERR_APER_6_galex', 'NUV_MAG_APER_7_galex', 'NUV_MAGERR_APER_7_galex', 'FUV_MAG_APER_1_galex', 'FUV_MAGERR_APER_1_galex', 'FUV_MAG_APER_2_galex', 'FUV_MAGERR_APER_2_galex', 'FUV_MAG_APER_3_galex', 'FUV_MAGERR_APER_3_galex', 'FUV_MAG_APER_4_galex', 'FUV_MAGERR_APER_4_galex', 'FUV_MAG_APER_5_galex', 'FUV_MAGERR_APER_5_galex', 'FUV_MAG_APER_6_galex', 'FUV_MAGERR_APER_6_galex', 'FUV_MAG_APER_7_galex', 'FUV_MAGERR_APER_7_galex', 'E_bv_galex', 'z', 'z_err', 'deVRad_u', 'deVRadErr_u', 'deVAB_u', 'deVABErr_u', 'deVPhi_u', 'deVMag_u', 'deVMagErr_u', 'deVFlux_u', 'deVFluxIvar_u', 'expRad_u', 'expRadErr_u', 'expAB_u', 'expABErr_u', 'expPhi_u', 'expMag_u', 'expFlux_u', 'expFluxIvar_u', 'expMagErr_u', 'modelMag_u', 'modelMagErr_u', 'deVRad_g', 'deVRadErr_g', 'deVAB_g', 'deVABErr_g', 'deVPhi_g', 'deVMag_g', 'deVMagErr_g', 'deVFlux_g', 'deVFluxIvar_g', 'expRad_g', 'expRadErr_g', 'expAB_g', 'expABErr_g', 'expPhi_g', 'expMag_g', 'expFlux_g', 'expFluxIvar_g', 'expMagErr_g', 'modelMag_g', 'modelMagErr_g']\n"
     ]
    }
   ],
   "source": [
    "print(rcsed_labeled.shape)\n",
    "print(list(rcsed_labeled.columns))"
   ]
  },
  {
   "cell_type": "code",
   "execution_count": 4,
   "metadata": {},
   "outputs": [
    {
     "name": "stdout",
     "output_type": "stream",
     "text": [
      "   Unnamed: 0  Unnamed: 0.1  ind        ra        dec    z_sdss  zerr_sdss  \\\n",
      "0          59            59   63  0.004283   0.755326  0.081572   0.000018   \n",
      "1          62            62   66  0.004314   0.541300  0.095631   0.000006   \n",
      "2          72            72   76  0.005128  20.442662  0.072906   0.000020   \n",
      "3          92            92   98  0.006473  -0.092593  0.078133   0.000020   \n",
      "4          99            99  105  0.006858  -8.385647  0.101621   0.000009   \n",
      "\n",
      "   specObjID_sdss       bestObjID_sdss  plate_sdss  ...  expRadErr_g  \\\n",
      "0    1.732894e+18  1237657191978958919        1539  ...          NaN   \n",
      "1    1.228491e+18  1237663277927760057        1091  ...          NaN   \n",
      "2    6.879285e+18  1237679504318922916        6110  ...     0.066521   \n",
      "3    4.357744e+17  1237657190905217072         387  ...          NaN   \n",
      "4    8.046853e+18  1237680262389694517        7147  ...     0.063949   \n",
      "\n",
      "    expAB_g  expABErr_g   expPhi_g  expMag_g  expFlux_g  expFluxIvar_g  \\\n",
      "0       NaN         NaN        NaN       NaN        NaN            NaN   \n",
      "1       NaN         NaN        NaN       NaN        NaN            NaN   \n",
      "2  0.330546    0.014608   16.32779  18.09596   57.75843       4.067686   \n",
      "3       NaN         NaN        NaN       NaN        NaN            NaN   \n",
      "4  0.238732    0.006978  122.53020  17.65660   86.56815       2.974971   \n",
      "\n",
      "  expMagErr_g  modelMag_g  modelMagErr_g  \n",
      "0         NaN         NaN            NaN  \n",
      "1         NaN         NaN            NaN  \n",
      "2    0.009320    17.87665       0.009192  \n",
      "3         NaN         NaN            NaN  \n",
      "4    0.007271    17.73792       0.007292  \n",
      "\n",
      "[5 rows x 561 columns]\n"
     ]
    }
   ],
   "source": [
    "print(rcsed_labeled.head())"
   ]
  },
  {
   "cell_type": "code",
   "execution_count": 6,
   "metadata": {},
   "outputs": [],
   "source": [
    "# rcsed_labeled = rcsed_labeled.drop(['Unnamed: 0'], axis=1)\n",
    "# rcsed_labeled = rcsed_labeled.drop(['Unnamed: 0.1'], axis=1)\n",
    "labels = labels.drop([i for i in labels.columns if 'Unnamed' in i], axis=1)\n",
    "rcsed_labeled= rcsed_labeled.join(labels)"
   ]
  },
  {
   "cell_type": "code",
   "execution_count": 7,
   "metadata": {},
   "outputs": [
    {
     "name": "stdout",
     "output_type": "stream",
     "text": [
      "   Unnamed: 0  Unnamed: 0.1  ind        ra        dec    z_sdss  zerr_sdss  \\\n",
      "0          59            59   63  0.004283   0.755326  0.081572   0.000018   \n",
      "1          62            62   66  0.004314   0.541300  0.095631   0.000006   \n",
      "2          72            72   76  0.005128  20.442662  0.072906   0.000020   \n",
      "3          92            92   98  0.006473  -0.092593  0.078133   0.000020   \n",
      "4          99            99  105  0.006858  -8.385647  0.101621   0.000009   \n",
      "\n",
      "   specObjID_sdss       bestObjID_sdss  plate_sdss  ...   expAB_g  expABErr_g  \\\n",
      "0    1.732894e+18  1237657191978958919        1539  ...       NaN         NaN   \n",
      "1    1.228491e+18  1237663277927760057        1091  ...       NaN         NaN   \n",
      "2    6.879285e+18  1237679504318922916        6110  ...  0.330546    0.014608   \n",
      "3    4.357744e+17  1237657190905217072         387  ...       NaN         NaN   \n",
      "4    8.046853e+18  1237680262389694517        7147  ...  0.238732    0.006978   \n",
      "\n",
      "    expPhi_g  expMag_g expFlux_g  expFluxIvar_g  expMagErr_g modelMag_g  \\\n",
      "0        NaN       NaN       NaN            NaN          NaN        NaN   \n",
      "1        NaN       NaN       NaN            NaN          NaN        NaN   \n",
      "2   16.32779  18.09596  57.75843       4.067686     0.009320   17.87665   \n",
      "3        NaN       NaN       NaN            NaN          NaN        NaN   \n",
      "4  122.53020  17.65660  86.56815       2.974971     0.007271   17.73792   \n",
      "\n",
      "   modelMagErr_g     iGrID  \n",
      "0            NaN   50126.0  \n",
      "1            NaN  129111.0  \n",
      "2       0.009192  212738.0  \n",
      "3            NaN   51045.0  \n",
      "4       0.007292  203801.0  \n",
      "\n",
      "[5 rows x 562 columns]\n"
     ]
    }
   ],
   "source": [
    "print(rcsed_labeled.head())"
   ]
  },
  {
   "cell_type": "code",
   "execution_count": 17,
   "metadata": {},
   "outputs": [],
   "source": [
    "# rcsed_labeled = rcsed_labeled.drop(['ind'], axis=1)\n",
    "# rcsed_labeled = rcsed_labeled.drop(['Unnamed: 0','Unnamed: 0.1'], axis=1)\n",
    "# rcsed_labeled = rcsed_labeled.select_dtypes(include='number')\n",
    "labels=rcsed_labeled['iGrID']\n",
    "rcsed_labeled=rcsed_labeled.drop(['iGrID'], axis=1)"
   ]
  },
  {
   "cell_type": "code",
   "execution_count": 18,
   "metadata": {},
   "outputs": [
    {
     "name": "stdout",
     "output_type": "stream",
     "text": [
      "         ra        dec    z_sdss  zerr_sdss  specObjID_sdss  \\\n",
      "0  0.004283   0.755326  0.081572   0.000018    1.732894e+18   \n",
      "1  0.004314   0.541300  0.095631   0.000006    1.228491e+18   \n",
      "2  0.005128  20.442662  0.072906   0.000020    6.879285e+18   \n",
      "3  0.006473  -0.092593  0.078133   0.000020    4.357744e+17   \n",
      "4  0.006858  -8.385647  0.101621   0.000009    8.046853e+18   \n",
      "\n",
      "        bestObjID_sdss  plate_sdss  mjd_sdss  fiberID_sdss  z_2df  ...  \\\n",
      "0  1237657191978958919        1539     52943           488    NaN  ...   \n",
      "1  1237663277927760057        1091     52902           488    NaN  ...   \n",
      "2  1237679504318922916        6110     56279           134    NaN  ...   \n",
      "3  1237657190905217072         387     51791           186    NaN  ...   \n",
      "4  1237680262389694517        7147     56574           170    NaN  ...   \n",
      "\n",
      "   expRadErr_g   expAB_g  expABErr_g   expPhi_g  expMag_g  expFlux_g  \\\n",
      "0          NaN       NaN         NaN        NaN       NaN        NaN   \n",
      "1          NaN       NaN         NaN        NaN       NaN        NaN   \n",
      "2     0.066521  0.330546    0.014608   16.32779  18.09596   57.75843   \n",
      "3          NaN       NaN         NaN        NaN       NaN        NaN   \n",
      "4     0.063949  0.238732    0.006978  122.53020  17.65660   86.56815   \n",
      "\n",
      "   expFluxIvar_g  expMagErr_g  modelMag_g  modelMagErr_g  \n",
      "0            NaN          NaN         NaN            NaN  \n",
      "1            NaN          NaN         NaN            NaN  \n",
      "2       4.067686     0.009320    17.87665       0.009192  \n",
      "3            NaN          NaN         NaN            NaN  \n",
      "4       2.974971     0.007271    17.73792       0.007292  \n",
      "\n",
      "[5 rows x 548 columns]\n"
     ]
    }
   ],
   "source": [
    "print(rcsed_labeled.head())"
   ]
  },
  {
   "cell_type": "code",
   "execution_count": 19,
   "metadata": {},
   "outputs": [],
   "source": [
    "from sklearn.ensemble import ExtraTreesClassifier\n",
    "from sklearn.feature_selection import SelectFromModel"
   ]
  },
  {
   "cell_type": "code",
   "execution_count": 21,
   "metadata": {},
   "outputs": [
    {
     "ename": "ValueError",
     "evalue": "Input contains NaN, infinity or a value too large for dtype('float32').",
     "output_type": "error",
     "traceback": [
      "\u001b[1;31m---------------------------------------------------------------------------\u001b[0m",
      "\u001b[1;31mValueError\u001b[0m                                Traceback (most recent call last)",
      "\u001b[1;32m<ipython-input-21-f42503d21d98>\u001b[0m in \u001b[0;36m<module>\u001b[1;34m\u001b[0m\n\u001b[0;32m      1\u001b[0m \u001b[0mclf\u001b[0m \u001b[1;33m=\u001b[0m \u001b[0mExtraTreesClassifier\u001b[0m\u001b[1;33m(\u001b[0m\u001b[0mn_estimators\u001b[0m\u001b[1;33m=\u001b[0m\u001b[1;36m50\u001b[0m\u001b[1;33m)\u001b[0m\u001b[1;33m\u001b[0m\u001b[1;33m\u001b[0m\u001b[0m\n\u001b[1;32m----> 2\u001b[1;33m \u001b[0mclf\u001b[0m \u001b[1;33m=\u001b[0m \u001b[0mclf\u001b[0m\u001b[1;33m.\u001b[0m\u001b[0mfit\u001b[0m\u001b[1;33m(\u001b[0m\u001b[0mrcsed_labeled\u001b[0m\u001b[1;33m,\u001b[0m \u001b[0mlabels\u001b[0m\u001b[1;33m)\u001b[0m\u001b[1;33m\u001b[0m\u001b[1;33m\u001b[0m\u001b[0m\n\u001b[0m\u001b[0;32m      3\u001b[0m \u001b[0mprint\u001b[0m\u001b[1;33m(\u001b[0m\u001b[0mclf\u001b[0m\u001b[1;33m.\u001b[0m\u001b[0mfeature_importances_\u001b[0m  \u001b[1;33m)\u001b[0m\u001b[1;33m\u001b[0m\u001b[1;33m\u001b[0m\u001b[0m\n",
      "\u001b[1;32m~\\Anaconda3\\lib\\site-packages\\sklearn\\ensemble\\forest.py\u001b[0m in \u001b[0;36mfit\u001b[1;34m(self, X, y, sample_weight)\u001b[0m\n\u001b[0;32m    247\u001b[0m \u001b[1;33m\u001b[0m\u001b[0m\n\u001b[0;32m    248\u001b[0m         \u001b[1;31m# Validate or convert input data\u001b[0m\u001b[1;33m\u001b[0m\u001b[1;33m\u001b[0m\u001b[1;33m\u001b[0m\u001b[0m\n\u001b[1;32m--> 249\u001b[1;33m         \u001b[0mX\u001b[0m \u001b[1;33m=\u001b[0m \u001b[0mcheck_array\u001b[0m\u001b[1;33m(\u001b[0m\u001b[0mX\u001b[0m\u001b[1;33m,\u001b[0m \u001b[0maccept_sparse\u001b[0m\u001b[1;33m=\u001b[0m\u001b[1;34m\"csc\"\u001b[0m\u001b[1;33m,\u001b[0m \u001b[0mdtype\u001b[0m\u001b[1;33m=\u001b[0m\u001b[0mDTYPE\u001b[0m\u001b[1;33m)\u001b[0m\u001b[1;33m\u001b[0m\u001b[1;33m\u001b[0m\u001b[0m\n\u001b[0m\u001b[0;32m    250\u001b[0m         \u001b[0my\u001b[0m \u001b[1;33m=\u001b[0m \u001b[0mcheck_array\u001b[0m\u001b[1;33m(\u001b[0m\u001b[0my\u001b[0m\u001b[1;33m,\u001b[0m \u001b[0maccept_sparse\u001b[0m\u001b[1;33m=\u001b[0m\u001b[1;34m'csc'\u001b[0m\u001b[1;33m,\u001b[0m \u001b[0mensure_2d\u001b[0m\u001b[1;33m=\u001b[0m\u001b[1;32mFalse\u001b[0m\u001b[1;33m,\u001b[0m \u001b[0mdtype\u001b[0m\u001b[1;33m=\u001b[0m\u001b[1;32mNone\u001b[0m\u001b[1;33m)\u001b[0m\u001b[1;33m\u001b[0m\u001b[1;33m\u001b[0m\u001b[0m\n\u001b[0;32m    251\u001b[0m         \u001b[1;32mif\u001b[0m \u001b[0msample_weight\u001b[0m \u001b[1;32mis\u001b[0m \u001b[1;32mnot\u001b[0m \u001b[1;32mNone\u001b[0m\u001b[1;33m:\u001b[0m\u001b[1;33m\u001b[0m\u001b[1;33m\u001b[0m\u001b[0m\n",
      "\u001b[1;32m~\\Anaconda3\\lib\\site-packages\\sklearn\\utils\\validation.py\u001b[0m in \u001b[0;36mcheck_array\u001b[1;34m(array, accept_sparse, accept_large_sparse, dtype, order, copy, force_all_finite, ensure_2d, allow_nd, ensure_min_samples, ensure_min_features, warn_on_dtype, estimator)\u001b[0m\n\u001b[0;32m    540\u001b[0m         \u001b[1;32mif\u001b[0m \u001b[0mforce_all_finite\u001b[0m\u001b[1;33m:\u001b[0m\u001b[1;33m\u001b[0m\u001b[1;33m\u001b[0m\u001b[0m\n\u001b[0;32m    541\u001b[0m             _assert_all_finite(array,\n\u001b[1;32m--> 542\u001b[1;33m                                allow_nan=force_all_finite == 'allow-nan')\n\u001b[0m\u001b[0;32m    543\u001b[0m \u001b[1;33m\u001b[0m\u001b[0m\n\u001b[0;32m    544\u001b[0m     \u001b[1;32mif\u001b[0m \u001b[0mensure_min_samples\u001b[0m \u001b[1;33m>\u001b[0m \u001b[1;36m0\u001b[0m\u001b[1;33m:\u001b[0m\u001b[1;33m\u001b[0m\u001b[1;33m\u001b[0m\u001b[0m\n",
      "\u001b[1;32m~\\Anaconda3\\lib\\site-packages\\sklearn\\utils\\validation.py\u001b[0m in \u001b[0;36m_assert_all_finite\u001b[1;34m(X, allow_nan)\u001b[0m\n\u001b[0;32m     54\u001b[0m                 not allow_nan and not np.isfinite(X).all()):\n\u001b[0;32m     55\u001b[0m             \u001b[0mtype_err\u001b[0m \u001b[1;33m=\u001b[0m \u001b[1;34m'infinity'\u001b[0m \u001b[1;32mif\u001b[0m \u001b[0mallow_nan\u001b[0m \u001b[1;32melse\u001b[0m \u001b[1;34m'NaN, infinity'\u001b[0m\u001b[1;33m\u001b[0m\u001b[1;33m\u001b[0m\u001b[0m\n\u001b[1;32m---> 56\u001b[1;33m             \u001b[1;32mraise\u001b[0m \u001b[0mValueError\u001b[0m\u001b[1;33m(\u001b[0m\u001b[0mmsg_err\u001b[0m\u001b[1;33m.\u001b[0m\u001b[0mformat\u001b[0m\u001b[1;33m(\u001b[0m\u001b[0mtype_err\u001b[0m\u001b[1;33m,\u001b[0m \u001b[0mX\u001b[0m\u001b[1;33m.\u001b[0m\u001b[0mdtype\u001b[0m\u001b[1;33m)\u001b[0m\u001b[1;33m)\u001b[0m\u001b[1;33m\u001b[0m\u001b[1;33m\u001b[0m\u001b[0m\n\u001b[0m\u001b[0;32m     57\u001b[0m     \u001b[1;31m# for object dtype data, we only check for NaNs (GH-13254)\u001b[0m\u001b[1;33m\u001b[0m\u001b[1;33m\u001b[0m\u001b[1;33m\u001b[0m\u001b[0m\n\u001b[0;32m     58\u001b[0m     \u001b[1;32melif\u001b[0m \u001b[0mX\u001b[0m\u001b[1;33m.\u001b[0m\u001b[0mdtype\u001b[0m \u001b[1;33m==\u001b[0m \u001b[0mnp\u001b[0m\u001b[1;33m.\u001b[0m\u001b[0mdtype\u001b[0m\u001b[1;33m(\u001b[0m\u001b[1;34m'object'\u001b[0m\u001b[1;33m)\u001b[0m \u001b[1;32mand\u001b[0m \u001b[1;32mnot\u001b[0m \u001b[0mallow_nan\u001b[0m\u001b[1;33m:\u001b[0m\u001b[1;33m\u001b[0m\u001b[1;33m\u001b[0m\u001b[0m\n",
      "\u001b[1;31mValueError\u001b[0m: Input contains NaN, infinity or a value too large for dtype('float32')."
     ]
    }
   ],
   "source": [
    "clf = ExtraTreesClassifier(n_estimators=50)\n",
    "clf = clf.fit(rcsed_labeled, labels)\n",
    "print(clf.feature_importances_  )"
   ]
  },
  {
   "cell_type": "code",
   "execution_count": 12,
   "metadata": {},
   "outputs": [],
   "source": [
    "x = rcsed_labeled.drop(['ind', 'spid_lamost', 'z_err', 'specObjID_sdss', 'z_sdss', 'f_spec_lega_c', 'f_z_lega_c', 'phot_data_new_galex', 'bestObjID_sdss', 'specid_6df', 'q_z_2df', 'recno_uzc', 'OBJNO_deep2', 'OBJNO_deep3', 'obsid_lamost', 'lmjd_lamost', 'mjd_lamost', 'quality_6df', 'Q_wigglez', 'NQ_gama', 'fibermag_i_sdss', 'fibermag_z_sdss', 'fibermagerr_i_sdss', 'fibermagerr_z_sdss', 'fiber2mag_i_sdss', 'fiber2mag_z_sdss', 'fiber2magerr_i_sdss', 'fiber2magerr_z_sdss', 'petromag_i_sdss', 'petromag_z_sdss', 'petromagerr_i_sdss', 'petromagerr_z_sdss', 'petror50_u_sdss', 'petror50_g_sdss', 'petror50_r_sdss', 'petror50_i_sdss', 'petror50_z_sdss' , 'multiple_z', 'dz', 'wigglez_photo'], axis=1)"
   ]
  },
  {
   "cell_type": "code",
   "execution_count": 13,
   "metadata": {},
   "outputs": [],
   "source": [
    "x = x.drop(x.columns[x.isna().any().values].values, axis=1)\n",
    "x = x.select_dtypes(include='number')"
   ]
  },
  {
   "cell_type": "code",
   "execution_count": 14,
   "metadata": {},
   "outputs": [
    {
     "name": "stdout",
     "output_type": "stream",
     "text": [
      "(401148, 67)\n"
     ]
    }
   ],
   "source": [
    "print(x.shape)"
   ]
  },
  {
   "cell_type": "code",
   "execution_count": 15,
   "metadata": {},
   "outputs": [],
   "source": [
    "x = x.drop([\"plate_sdss\", \"mjd_sdss\", \"fiberID_sdss\", \"fiberid_lamost\"], axis=1)"
   ]
  },
  {
   "cell_type": "code",
   "execution_count": 17,
   "metadata": {},
   "outputs": [],
   "source": [
    "rcsed_labeled=x"
   ]
  },
  {
   "cell_type": "code",
   "execution_count": 28,
   "metadata": {},
   "outputs": [
    {
     "name": "stdout",
     "output_type": "stream",
     "text": [
      "[896 765 567 ...   1   1   1]\n",
      "149473.0    896\n",
      "153084.0    765\n",
      "39456.0     567\n",
      "176804.0    396\n",
      "42643.0     277\n",
      "           ... \n",
      "93687.0       3\n",
      "82203.0       3\n",
      "9007.0        3\n",
      "196042.0      3\n",
      "139164.0      3\n",
      "Name: iGrID, Length: 26227, dtype: int64\n"
     ]
    }
   ],
   "source": [
    "print(counts.values)\n",
    "reduced_count = counts[counts.values>=3]\n",
    "print(reduced_count)"
   ]
  },
  {
   "cell_type": "code",
   "execution_count": 31,
   "metadata": {},
   "outputs": [
    {
     "name": "stdout",
     "output_type": "stream",
     "text": [
      "149473.0    896\n",
      "153084.0    765\n",
      "39456.0     567\n",
      "176804.0    396\n",
      "42643.0     277\n",
      "           ... \n",
      "207803.0      1\n",
      "207802.0      1\n",
      "207801.0      1\n",
      "25975.0       1\n",
      "192549.0      1\n",
      "Name: iGrID, Length: 229381, dtype: int64\n",
      "149473.0    896\n",
      "153084.0    765\n",
      "39456.0     567\n",
      "176804.0    396\n",
      "42643.0     277\n",
      "           ... \n",
      "207803.0      1\n",
      "207802.0      1\n",
      "207801.0      1\n",
      "25975.0       1\n",
      "192549.0      1\n",
      "Name: iGrID, Length: 229381, dtype: int64\n"
     ]
    }
   ],
   "source": [
    "counts = labels['iGrID'].value_counts()\n",
    "print(counts)\n",
    "\n",
    "rc_counts = rcsed_labeled['iGrID'].value_counts()\n",
    "print(rc_counts)\n",
    "\n",
    "# print(rcsed_labeled['iGrID'].equals(labels['iGrID']))\n",
    "\n",
    "# print(labels)\n",
    "# print(rcsed_labeled.shape)\n",
    "# rcsed_labeled['iGrID']=df['iGrID']\n",
    "# print(rcsed_labeled['iGrID1'].equals(labels['iGrID']))\n",
    "# rc_counts = rcsed_labeled['iGrID1'].value_counts()\n",
    "# print(rc_counts)\n",
    "# print(rcsed_labeled['iGrID'])\n",
    "# print(labels['iGrID'])"
   ]
  },
  {
   "cell_type": "code",
   "execution_count": 45,
   "metadata": {},
   "outputs": [
    {
     "name": "stdout",
     "output_type": "stream",
     "text": [
      "[149473.0, 153084.0, 39456.0, 176804.0, 42643.0, 112271.0, 30885.0, 160410.0, 127065.0, 13370.0, 20266.0, 20078.0, 101773.0, 176164.0, 191838.0, 127066.0, 126645.0, 16435.0, 101211.0, 81481.0, 107331.0, 183718.0, 150207.0, 40250.0, 82182.0, 152483.0, 45917.0, 10476.0, 19966.0, 180785.0, 181726.0, 12324.0, 11499.0, 19811.0, 98438.0, 159332.0, 70533.0, 149469.0, 107210.0, 110724.0, 65627.0, 83761.0, 163829.0, 58282.0, 80308.0, 34155.0, 32731.0, 108889.0, 13898.0, 110698.0, 67252.0, 49589.0, 49458.0, 143334.0, 20001.0, 50913.0, 18926.0, 52238.0, 62024.0, 95500.0, 50715.0, 87193.0, 106224.0, 132580.0, 36256.0, 139785.0, 52380.0, 7892.0, 64669.0, 29982.0, 51154.0, 51050.0, 109739.0, 58065.0, 30251.0, 5742.0, 211.0, 29752.0, 92518.0, 81704.0, 107404.0, 95347.0, 110973.0, 125949.0, 51429.0, 29465.0, 116091.0, 4766.0, 53587.0, 179559.0, 153748.0, 109343.0, 159817.0, 20708.0, 169600.0, 49580.0, 67012.0, 161693.0, 154382.0, 85376.0, 146969.0, 95571.0, 58643.0, 110860.0, 118434.0, 12987.0, 116875.0, 38958.0, 123620.0, 70917.0, 1195.0, 28826.0, 173419.0, 50730.0, 51.0, 43460.0, 108083.0, 132992.0, 84864.0, 19854.0, 30772.0, 106297.0, 5691.0, 92974.0, 17434.0, 44168.0, 70831.0, 151797.0, 34290.0, 30473.0, 184434.0, 29097.0, 143238.0, 126595.0, 151873.0, 94211.0, 50963.0, 152805.0, 84515.0, 159261.0, 10696.0, 9498.0, 34900.0, 115573.0, 49647.0, 149283.0, 102017.0, 174811.0, 168859.0, 168232.0, 152780.0, 164552.0, 34801.0, 170606.0, 188123.0, 152266.0, 53540.0, 163780.0, 111261.0, 10008.0, 143225.0, 83495.0, 104715.0, 76616.0, 160188.0, 191610.0, 152391.0, 135750.0, 2354.0, 132033.0, 107885.0, 84291.0, 147784.0, 109929.0, 16172.0, 47811.0, 160171.0, 131207.0, 179611.0, 38352.0, 154760.0, 53123.0, 148199.0, 50978.0, 148204.0, 67095.0, 22642.0, 1322.0, 124415.0, 92810.0, 192780.0, 108022.0, 1460.0, 180251.0, 2427.0, 151624.0, 51562.0, 36336.0, 184253.0, 132955.0, 20134.0, 76614.0, 97503.0, 107737.0, 49053.0, 49520.0, 88948.0, 144311.0, 32760.0, 132757.0, 177978.0, 151622.0, 177129.0, 147787.0, 151335.0, 185514.0, 101670.0, 19901.0, 89875.0, 1141.0, 89714.0, 94016.0, 26540.0, 174380.0, 16828.0, 12639.0, 143033.0, 157252.0, 81479.0, 110167.0, 155521.0, 69821.0, 50112.0, 100041.0, 99693.0, 68629.0, 84669.0, 70750.0, 50439.0, 204981.0, 33186.0, 108455.0, 154953.0, 152460.0, 24411.0, 132453.0, 34229.0, 106933.0, 164181.0, 102212.0, 89186.0, 99755.0, 39283.0, 23121.0, 67838.0, 44676.0, 142.0, 68174.0, 28277.0, 70191.0, 47822.0, 148612.0, 1568.0, 184.0, 173489.0, 103688.0, 21379.0, 46395.0, 10667.0, 51833.0, 56690.0, 22788.0, 10318.0, 50991.0, 32466.0, 161702.0, 46404.0, 3069.0, 142273.0, 121081.0, 117620.0, 759.0, 34488.0, 94566.0, 182796.0, 143994.0, 109496.0, 34980.0, 161038.0, 81984.0, 107506.0, 88321.0, 185085.0, 92090.0, 47499.0, 986.0, 176410.0, 162188.0, 49359.0, 30875.0, 19522.0, 107972.0, 35726.0, 118229.0, 118491.0, 48277.0, 127195.0, 95376.0, 632.0, 121120.0, 51383.0, 108500.0, 86383.0, 78653.0, 57151.0, 33524.0, 10835.0, 177535.0, 138711.0, 84273.0, 176540.0, 103030.0, 61254.0, 55707.0, 153143.0, 84309.0, 127304.0, 159137.0, 25882.0, 85308.0, 67117.0, 10659.0, 68072.0, 81489.0, 138916.0, 136677.0, 10438.0, 924.0, 93965.0, 93361.0, 166768.0, 148057.0, 177159.0, 20560.0, 80072.0, 96885.0, 50461.0, 149005.0, 33517.0, 22232.0, 83367.0, 1203.0, 132353.0, 146593.0, 153149.0, 29514.0, 93444.0, 17818.0, 58023.0, 84487.0, 58518.0, 143365.0, 41338.0, 145724.0, 1227.0, 110846.0, 155178.0, 39398.0, 150931.0, 2285.0, 107532.0, 203287.0, 30247.0, 191483.0, 146324.0, 76467.0, 17660.0, 151566.0, 59576.0, 127324.0, 151614.0, 150527.0, 362.0, 176466.0, 191634.0, 127694.0, 3878.0, 95607.0, 68103.0, 62551.0, 11737.0, 95366.0, 7192.0, 20432.0, 85680.0, 38425.0, 44323.0, 132073.0, 5850.0, 33111.0, 176427.0, 125203.0, 67250.0, 142208.0, 68742.0, 156249.0, 103541.0, 132617.0, 66655.0, 82951.0, 42990.0, 184562.0, 96001.0, 49177.0, 202551.0, 176059.0, 41975.0, 86860.0, 132001.0, 145593.0, 85377.0, 154747.0, 118633.0, 2524.0, 135322.0, 19382.0, 1006.0, 161311.0, 103144.0, 180729.0, 132923.0, 162284.0, 117701.0, 188046.0, 64526.0, 55661.0, 152339.0, 137707.0, 103250.0, 1641.0, 417.0, 203646.0, 76206.0, 176411.0, 38199.0, 84231.0, 123283.0, 73513.0, 157.0, 20455.0, 178738.0, 176697.0, 103671.0, 653.0, 15091.0, 39605.0, 68308.0, 30259.0, 10000.0, 177253.0, 115311.0, 182485.0, 189650.0, 159643.0, 108160.0, 73369.0, 60344.0, 86345.0, 177370.0, 93928.0, 32894.0, 153044.0, 132433.0, 105148.0, 159351.0, 127001.0]\n"
     ]
    }
   ],
   "source": [
    "print(list(reduced_count.index))"
   ]
  },
  {
   "cell_type": "code",
   "execution_count": 29,
   "metadata": {},
   "outputs": [
    {
     "name": "stdout",
     "output_type": "stream",
     "text": [
      "(165517, 63)\n"
     ]
    }
   ],
   "source": [
    "reduced_labeled = rcsed_labeled[rcsed_labeled['iGrID'].isin(list(reduced_count.index))]\n",
    "print(reduced_labeled.shape)"
   ]
  },
  {
   "cell_type": "code",
   "execution_count": 30,
   "metadata": {},
   "outputs": [
    {
     "name": "stdout",
     "output_type": "stream",
     "text": [
      "                ra        dec      E_bv  A_u_sdss  A_g_sdss  A_r_sdss  \\\n",
      "0         0.004283   0.755326  0.027560  0.116829  0.091032  0.062976   \n",
      "5         0.007257   0.731455  0.027625  0.117101  0.091244  0.063122   \n",
      "7         0.007720   0.719268  0.027616  0.117065  0.091216  0.063103   \n",
      "12        0.012351   0.717993  0.027669  0.117291  0.091392  0.063225   \n",
      "19        0.019792   0.781701  0.027546  0.116767  0.090984  0.062942   \n",
      "...            ...        ...       ...       ...       ...       ...   \n",
      "401133  359.984900   0.675109  0.027035  0.114603  0.089298  0.061776   \n",
      "401137  359.988820   0.715136  0.027288  0.115674  0.090132  0.062353   \n",
      "401139  359.990370 -10.911517  0.034532  0.146380  0.114058  0.078905   \n",
      "401141  359.992880   0.702421  0.027287  0.115670  0.090129  0.062351   \n",
      "401144  359.995030   0.701760  0.027317  0.115797  0.090229  0.062420   \n",
      "\n",
      "        A_i_sdss  A_z_sdss   A_g_des   A_r_des  ...  fiber2magerr_g_sdss  \\\n",
      "0       0.046798  0.034809  0.089213  0.059972  ...             0.031269   \n",
      "5       0.046907  0.034890  0.089421  0.060111  ...             0.015216   \n",
      "7       0.046892  0.034879  0.089394  0.060093  ...             0.010164   \n",
      "12      0.046983  0.034947  0.089566  0.060209  ...             0.011183   \n",
      "19      0.046773  0.034790  0.089166  0.059940  ...             0.010316   \n",
      "...          ...       ...       ...       ...  ...                  ...   \n",
      "401133  0.045906  0.034146  0.087513  0.058829  ...             0.008183   \n",
      "401137  0.046335  0.034465  0.088331  0.059379  ...             0.011636   \n",
      "401139  0.058635  0.043613  0.111779  0.075141  ...             0.012564   \n",
      "401141  0.046333  0.034463  0.088328  0.059377  ...             0.029537   \n",
      "401144  0.046385  0.034502  0.088426  0.059442  ...             0.012700   \n",
      "\n",
      "        fiber2magerr_r_sdss  petromag_u_sdss  petromag_g_sdss  \\\n",
      "0                  0.015937          22.3634          19.0193   \n",
      "5                  0.010208          20.8875          18.9731   \n",
      "7                  0.008585          20.2572          18.3223   \n",
      "12                 0.011445          20.5949          18.5708   \n",
      "19                 0.006503          18.4087          16.6466   \n",
      "...                     ...              ...              ...   \n",
      "401133             0.005864          19.1453          17.2074   \n",
      "401137             0.007854          19.2573          17.7129   \n",
      "401139             0.006081          20.1025          18.3112   \n",
      "401141             0.020543          18.7690          16.6383   \n",
      "401144             0.008524          18.2004          16.0649   \n",
      "\n",
      "        petromag_r_sdss  petromagerr_u_sdss  petromagerr_g_sdss  \\\n",
      "0               18.0090            1.874190            0.042745   \n",
      "5               18.0678            0.172762            0.015582   \n",
      "7               17.3794            0.160922            0.015435   \n",
      "12              17.6795            0.178699            0.018172   \n",
      "19              15.6966            0.078720            0.007413   \n",
      "...                 ...                 ...                 ...   \n",
      "401133          16.2423            0.081357            0.024912   \n",
      "401137          16.8755            0.100501            0.015115   \n",
      "401139          17.3842            0.138355            0.023335   \n",
      "401141          15.6741            0.115631            0.062024   \n",
      "401144          15.0321            0.106348            0.025818   \n",
      "\n",
      "        petromagerr_r_sdss         z    iGrID  \n",
      "0                 0.029342  0.081572  50126.0  \n",
      "5                 0.010917  0.081437  50126.0  \n",
      "7                 0.012164  0.082126  50126.0  \n",
      "12                0.015918  0.082439  50126.0  \n",
      "19                0.005428  0.080386  50126.0  \n",
      "...                    ...       ...      ...  \n",
      "401133            0.022674  0.084769  50126.0  \n",
      "401137            0.010307  0.083951  50126.0  \n",
      "401139            0.019327  0.103206  24236.0  \n",
      "401141            0.061574  0.083580  50126.0  \n",
      "401144            0.024327  0.081672  50126.0  \n",
      "\n",
      "[165517 rows x 63 columns]\n"
     ]
    }
   ],
   "source": [
    "print(reduced_labeled)"
   ]
  },
  {
   "cell_type": "code",
   "execution_count": 32,
   "metadata": {},
   "outputs": [
    {
     "name": "stdout",
     "output_type": "stream",
     "text": [
      "149473.0    896\n",
      "153084.0    765\n",
      "39456.0     567\n",
      "176804.0    396\n",
      "42643.0     277\n",
      "           ... \n",
      "151084.0      3\n",
      "43098.0       3\n",
      "108307.0      3\n",
      "108306.0      3\n",
      "175884.0      3\n",
      "Name: iGrID, Length: 26227, dtype: int64\n",
      "149473.0    896\n",
      "153084.0    765\n",
      "39456.0     567\n",
      "176804.0    396\n",
      "42643.0     277\n",
      "           ... \n",
      "207803.0      1\n",
      "207802.0      1\n",
      "207801.0      1\n",
      "25975.0       1\n",
      "192549.0      1\n",
      "Name: iGrID, Length: 229381, dtype: int64\n"
     ]
    }
   ],
   "source": [
    "new_counts = reduced_labeled['iGrID'].value_counts()\n",
    "print(new_counts)\n",
    "\n",
    "rcsed_counts = rcsed_labeled['iGrID'].value_counts()\n",
    "print(rcsed_counts)"
   ]
  },
  {
   "cell_type": "code",
   "execution_count": 26,
   "metadata": {},
   "outputs": [
    {
     "name": "stdout",
     "output_type": "stream",
     "text": [
      "<class 'pandas.core.series.Series'>\n"
     ]
    },
    {
     "data": {
      "image/png": "[encoded data removed]",
      "text/plain": [
       "<Figure size 432x288 with 1 Axes>"
      ]
     },
     "metadata": {
      "needs_background": "light"
     },
     "output_type": "display_data"
    }
   ],
   "source": [
    "print(type(counts))\n",
    "\n",
    "import matplotlib.pyplot as plt\n",
    "\n",
    "x = labels['iGrID']\n",
    "y = \n",
    "plt.plot([1, 2, 3, 4], [1, 4, 9, 16], 'ro')\n",
    "plt.show()"
   ]
  },
  {
   "cell_type": "code",
   "execution_count": 33,
   "metadata": {},
   "outputs": [],
   "source": [
    "formats_nulls = {\n",
    "                'J': -2147483648,\n",
    "                'K': -9223372036854775808,\n",
    "                'I': -32768,\n",
    "                'B': 255,\n",
    "                '6A': '      ',\n",
    "                '15A': '               ',\n",
    "                '40A':'                                        ',\n",
    "                '14A':'              ',\n",
    "                '33A':'                                 ',\n",
    "                '10A': '          '\n",
    "                }\n",
    "\n",
    "\n",
    "def clean_of_NaN_and_nulls(cat):\n",
    "    tresholds=[90,80,70,60]\n",
    "\n",
    "    for percentage in tresholds:\n",
    "#         print(percentage)\n",
    "        num_rows = cat.shape[0]\n",
    "        num_cols = cat.shape[1]\n",
    "        print(cat.shape)\n",
    "        nonNa = (100 -percentage)/100\n",
    "        #reduction by columns     \n",
    "        #cat.drop(x, axis=1)\n",
    "        \n",
    "        fun = lambda x: cat.drop(x, axis=1) if cat[x].mode()[0] in formats_nulls.values() and ((dict(cat[x].value_counts())[cat[x].mode()[0]])/num_rows) > (percentage/100) else cat\n",
    "                                               \n",
    "        cat.dropna(axis=1, thresh=nonNa*num_rows)\n",
    "#         colwise(fun)(cat)\n",
    "#         print(cat.columns)\n",
    "        for col in list(cat.columns):\n",
    "#             print(cat.shape)\n",
    "#             print(\"|\"+col+\"|\")\n",
    "#             print(type(col))\n",
    "            try:\n",
    "                cat= fun(str(col))\n",
    "            except:\n",
    "                print('ERRORERRORERRORERRORERRORERRORERRORERRORERRORERRORERRORERRORERROR')\n",
    "                continue\n",
    "#             print(cat.shape)\n",
    "#             print()\n",
    "                    \n",
    "        \n",
    "        #reduction by rows\n",
    "        cat.dropna(axis=0, thresh=nonNa*num_cols)\n",
    "        \n",
    "    return cat"
   ]
  },
  {
   "cell_type": "code",
   "execution_count": 34,
   "metadata": {},
   "outputs": [
    {
     "name": "stdout",
     "output_type": "stream",
     "text": [
      "(165517, 63)\n",
      "(165517, 63)\n",
      "(165517, 63)\n",
      "(165517, 63)\n"
     ]
    }
   ],
   "source": [
    "reduced_labeled =clean_of_NaN_and_nulls(reduced_labeled)"
   ]
  },
  {
   "cell_type": "code",
   "execution_count": 35,
   "metadata": {},
   "outputs": [
    {
     "name": "stdout",
     "output_type": "stream",
     "text": [
      "(165517, 63)\n"
     ]
    }
   ],
   "source": [
    "print(reduced_labeled.shape)"
   ]
  },
  {
   "cell_type": "code",
   "execution_count": 36,
   "metadata": {},
   "outputs": [
    {
     "name": "stdout",
     "output_type": "stream",
     "text": [
      "                ra        dec      E_bv  A_u_sdss  A_g_sdss  A_r_sdss  \\\n",
      "0         0.004283   0.755326  0.027560  0.116829  0.091032  0.062976   \n",
      "5         0.007257   0.731455  0.027625  0.117101  0.091244  0.063122   \n",
      "7         0.007720   0.719268  0.027616  0.117065  0.091216  0.063103   \n",
      "12        0.012351   0.717993  0.027669  0.117291  0.091392  0.063225   \n",
      "19        0.019792   0.781701  0.027546  0.116767  0.090984  0.062942   \n",
      "...            ...        ...       ...       ...       ...       ...   \n",
      "401133  359.984900   0.675109  0.027035  0.114603  0.089298  0.061776   \n",
      "401137  359.988820   0.715136  0.027288  0.115674  0.090132  0.062353   \n",
      "401139  359.990370 -10.911517  0.034532  0.146380  0.114058  0.078905   \n",
      "401141  359.992880   0.702421  0.027287  0.115670  0.090129  0.062351   \n",
      "401144  359.995030   0.701760  0.027317  0.115797  0.090229  0.062420   \n",
      "\n",
      "        A_i_sdss  A_z_sdss   A_g_des   A_r_des  ...  fiber2magerr_g_sdss  \\\n",
      "0       0.046798  0.034809  0.089213  0.059972  ...             0.031269   \n",
      "5       0.046907  0.034890  0.089421  0.060111  ...             0.015216   \n",
      "7       0.046892  0.034879  0.089394  0.060093  ...             0.010164   \n",
      "12      0.046983  0.034947  0.089566  0.060209  ...             0.011183   \n",
      "19      0.046773  0.034790  0.089166  0.059940  ...             0.010316   \n",
      "...          ...       ...       ...       ...  ...                  ...   \n",
      "401133  0.045906  0.034146  0.087513  0.058829  ...             0.008183   \n",
      "401137  0.046335  0.034465  0.088331  0.059379  ...             0.011636   \n",
      "401139  0.058635  0.043613  0.111779  0.075141  ...             0.012564   \n",
      "401141  0.046333  0.034463  0.088328  0.059377  ...             0.029537   \n",
      "401144  0.046385  0.034502  0.088426  0.059442  ...             0.012700   \n",
      "\n",
      "        fiber2magerr_r_sdss  petromag_u_sdss  petromag_g_sdss  \\\n",
      "0                  0.015937          22.3634          19.0193   \n",
      "5                  0.010208          20.8875          18.9731   \n",
      "7                  0.008585          20.2572          18.3223   \n",
      "12                 0.011445          20.5949          18.5708   \n",
      "19                 0.006503          18.4087          16.6466   \n",
      "...                     ...              ...              ...   \n",
      "401133             0.005864          19.1453          17.2074   \n",
      "401137             0.007854          19.2573          17.7129   \n",
      "401139             0.006081          20.1025          18.3112   \n",
      "401141             0.020543          18.7690          16.6383   \n",
      "401144             0.008524          18.2004          16.0649   \n",
      "\n",
      "        petromag_r_sdss  petromagerr_u_sdss  petromagerr_g_sdss  \\\n",
      "0               18.0090            1.874190            0.042745   \n",
      "5               18.0678            0.172762            0.015582   \n",
      "7               17.3794            0.160922            0.015435   \n",
      "12              17.6795            0.178699            0.018172   \n",
      "19              15.6966            0.078720            0.007413   \n",
      "...                 ...                 ...                 ...   \n",
      "401133          16.2423            0.081357            0.024912   \n",
      "401137          16.8755            0.100501            0.015115   \n",
      "401139          17.3842            0.138355            0.023335   \n",
      "401141          15.6741            0.115631            0.062024   \n",
      "401144          15.0321            0.106348            0.025818   \n",
      "\n",
      "        petromagerr_r_sdss         z    iGrID  \n",
      "0                 0.029342  0.081572  50126.0  \n",
      "5                 0.010917  0.081437  50126.0  \n",
      "7                 0.012164  0.082126  50126.0  \n",
      "12                0.015918  0.082439  50126.0  \n",
      "19                0.005428  0.080386  50126.0  \n",
      "...                    ...       ...      ...  \n",
      "401133            0.022674  0.084769  50126.0  \n",
      "401137            0.010307  0.083951  50126.0  \n",
      "401139            0.019327  0.103206  24236.0  \n",
      "401141            0.061574  0.083580  50126.0  \n",
      "401144            0.024327  0.081672  50126.0  \n",
      "\n",
      "[165517 rows x 63 columns]\n"
     ]
    }
   ],
   "source": [
    "print(reduced_labeled)"
   ]
  },
  {
   "cell_type": "code",
   "execution_count": 79,
   "metadata": {},
   "outputs": [],
   "source": [
    "reduced_labeled = reduced_labeled.drop(['iGrID1'], axis=1)"
   ]
  },
  {
   "cell_type": "code",
   "execution_count": 37,
   "metadata": {},
   "outputs": [
    {
     "name": "stdout",
     "output_type": "stream",
     "text": [
      "Index(['ra', 'dec', 'E_bv', 'A_u_sdss', 'A_g_sdss', 'A_r_sdss', 'A_i_sdss',\n",
      "       'A_z_sdss', 'A_g_des', 'A_r_des', 'A_i_des', 'A_z_des', 'A_u_skymapper',\n",
      "       'A_v_skymapper', 'A_g_skymapper', 'A_r_skymapper', 'A_i_skymapper',\n",
      "       'A_z_skymapper', 'A_Y_ukidss', 'A_J_ukidss', 'A_H_ukidss', 'A_K_ukidss',\n",
      "       'A_Z_viking', 'A_Y_viking', 'A_J_viking', 'A_H_viking', 'A_ks_viking',\n",
      "       'A_g_panstarrs', 'A_r_panstarrs', 'A_i_pansatrrs', 'A_z_panstarrs',\n",
      "       'A_y_panstarrs', 'A_w1_wise', 'A_w2_wise', 'A_w3_wise', 'A_w4_wise',\n",
      "       'A_NUV_galex', 'A_FUV_galex', 'extinction_u', 'extinction_g',\n",
      "       'extinction_r', 'extinction_i', 'extinction_z', 'fibermag_u_sdss',\n",
      "       'fibermag_g_sdss', 'fibermag_r_sdss', 'fibermagerr_u_sdss',\n",
      "       'fibermagerr_g_sdss', 'fibermagerr_r_sdss', 'fiber2mag_u_sdss',\n",
      "       'fiber2mag_g_sdss', 'fiber2mag_r_sdss', 'fiber2magerr_u_sdss',\n",
      "       'fiber2magerr_g_sdss', 'fiber2magerr_r_sdss', 'petromag_u_sdss',\n",
      "       'petromag_g_sdss', 'petromag_r_sdss', 'petromagerr_u_sdss',\n",
      "       'petromagerr_g_sdss', 'petromagerr_r_sdss', 'z', 'iGrID'],\n",
      "      dtype='object')\n"
     ]
    }
   ],
   "source": [
    "print(reduced_labeled.columns)"
   ]
  },
  {
   "cell_type": "code",
   "execution_count": 51,
   "metadata": {},
   "outputs": [],
   "source": [
    "x=reduced_labeled"
   ]
  },
  {
   "cell_type": "code",
   "execution_count": 45,
   "metadata": {},
   "outputs": [
    {
     "name": "stdout",
     "output_type": "stream",
     "text": [
      "(165517, 63)\n"
     ]
    }
   ],
   "source": [
    "print(x.shape)\n",
    "y=x['iGrID']"
   ]
  },
  {
   "cell_type": "code",
   "execution_count": 40,
   "metadata": {},
   "outputs": [],
   "source": [
    "import numpy as np\n",
    "import pandas as pd\n",
    "import matplotlib.pyplot as plt\n",
    "from sklearn.cluster import *\n",
    "from sklearn.metrics import *\n",
    "from sklearn.preprocessing import LabelEncoder, MinMaxScaler\n",
    "import astropy\n",
    "from astropy.coordinates import solar_system_ephemeris, EarthLocation\n",
    "from astropy import units as u\n",
    "from astropy.coordinates import SkyCoord\n",
    "from astropy import constants as const\n",
    "import hdbscan\n",
    "from astropy.io import fits\n",
    "import torch\n",
    "import torch.nn as nn\n",
    "import torch.nn.functional as F\n",
    "import torch.optim as optim\n",
    "from torchvision import datasets, transforms\n",
    "from torch.autograd import Variable\n",
    "from torchvision.utils import save_image"
   ]
  },
  {
   "cell_type": "code",
   "execution_count": 54,
   "metadata": {},
   "outputs": [
    {
     "data": {
      "text/plain": [
       "array([[-2.91494379, -1.22598125, -0.22075553, ...,  0.06846877,\n",
       "         0.00634511,  0.51949557],\n",
       "       [-2.91489732, -1.22726243, -0.21811248, ..., -0.058715  ,\n",
       "        -0.0428061 ,  0.51499311],\n",
       "       [-2.91489008, -1.22791652, -0.21846221, ..., -0.05940329,\n",
       "        -0.03947956,  0.53797201],\n",
       "       ...,\n",
       "       [ 2.70983769, -1.85215202,  0.0661735 , ..., -0.02241357,\n",
       "        -0.02037128,  1.24052898],\n",
       "       [ 2.70987691, -1.2288207 , -0.23201153, ...,  0.15873773,\n",
       "         0.09232838,  0.58642717],\n",
       "       [ 2.7099105 , -1.22885619, -0.23077016, ..., -0.01078756,\n",
       "        -0.00703309,  0.5228345 ]])"
      ]
     },
     "metadata": {},
     "output_type": "display_data"
    }
   ],
   "source": [
    "from sklearn.preprocessing import StandardScaler\n",
    "nrmlzr = StandardScaler()\n",
    "x = nrmlzr.fit_transform(x)\n",
    "display(x)\n"
   ]
  },
  {
   "cell_type": "code",
   "execution_count": 47,
   "metadata": {},
   "outputs": [
    {
     "data": {
      "text/plain": [
       "0         50126.0\n",
       "5         50126.0\n",
       "7         50126.0\n",
       "12        50126.0\n",
       "19        50126.0\n",
       "           ...   \n",
       "401133    50126.0\n",
       "401137    50126.0\n",
       "401139    24236.0\n",
       "401141    50126.0\n",
       "401144    50126.0\n",
       "Name: iGrID, Length: 165517, dtype: float64"
      ]
     },
     "metadata": {},
     "output_type": "display_data"
    }
   ],
   "source": [
    "display(y)"
   ]
  },
  {
   "cell_type": "code",
   "execution_count": 52,
   "metadata": {},
   "outputs": [],
   "source": [
    "x = x.drop(['iGrID'], axis=1)"
   ]
  },
  {
   "cell_type": "code",
   "execution_count": 53,
   "metadata": {},
   "outputs": [
    {
     "name": "stdout",
     "output_type": "stream",
     "text": [
      "(165517, 62)\n"
     ]
    }
   ],
   "source": [
    "print(x.shape)"
   ]
  },
  {
   "cell_type": "code",
   "execution_count": 61,
   "metadata": {},
   "outputs": [
    {
     "name": "stdout",
     "output_type": "stream",
     "text": [
      "cuda:0\n"
     ]
    }
   ],
   "source": [
    "device = torch.device('cuda:0' if torch.cuda.is_available() else 'cpu')\n",
    "print(device)"
   ]
  },
  {
   "cell_type": "code",
   "execution_count": 62,
   "metadata": {},
   "outputs": [],
   "source": [
    "class VAE(nn.Module):\n",
    "    def __init__(self, x_dim, h_dim1, h_dim2, z_dim):\n",
    "        super(VAE, self).__init__()\n",
    "        \n",
    "        self.fc1 = nn.Linear(x_dim, h_dim1)\n",
    "        self.fc2 = nn.Linear(h_dim1, h_dim2)\n",
    "        self.fc31 = nn.Linear(h_dim2, z_dim)\n",
    "        self.fc32 = nn.Linear(h_dim2, z_dim)\n",
    "\n",
    "        self.fc4 = nn.Linear(z_dim, h_dim2)\n",
    "        self.fc5 = nn.Linear(h_dim2, h_dim1)\n",
    "        self.fc6 = nn.Linear(h_dim1, x_dim)\n",
    "        \n",
    "    def encoder(self, x):\n",
    "        h = F.relu(self.fc1(x))\n",
    "        h = F.relu(self.fc2(h))\n",
    "        return self.fc31(h), self.fc32(h)\n",
    "    \n",
    "    def sampling(self, mu, log_var):\n",
    "        std = torch.exp(0.5*log_var)\n",
    "        eps = torch.randn_like(std)\n",
    "        return eps.mul(std).add_(mu)\n",
    "        \n",
    "    def decoder(self, z):\n",
    "        h = F.relu(self.fc4(z))\n",
    "        h = F.relu(self.fc5(h))\n",
    "        return torch.sigmoid(self.fc6(h)) \n",
    "    \n",
    "    def forward(self, x):\n",
    "        mu, log_var = self.encoder(x.view(-1, 62))\n",
    "        z = self.sampling(mu, log_var)\n",
    "        return self.decoder(z), mu, log_var"
   ]
  },
  {
   "cell_type": "code",
   "execution_count": 72,
   "metadata": {},
   "outputs": [
    {
     "name": "stdout",
     "output_type": "stream",
     "text": [
      "<torch.utils.data.dataloader.DataLoader object at 0x0000026D303B1D48>\n"
     ]
    }
   ],
   "source": [
    "\n",
    "vae = VAE(x_dim=62, h_dim1= 45, h_dim2=30, z_dim=7)\n",
    "if torch.cuda.is_available():\n",
    "    vae.cuda()\n",
    "\n",
    "optimizer = optim.Adam(vae.parameters())\n",
    "train_loader = torch.utils.data.DataLoader(dataset=x, batch_size=1000, shuffle=True)\n",
    "print(train_loader)\n",
    "\n",
    "def loss_function(recon_x, x, mu, log_var):\n",
    "    criterion = nn.MSELoss().cuda()\n",
    "    BCE = criterion(recon_x, x.view(-1, 62))\n",
    "    KLD = -0.5 * torch.sum(1 + log_var - mu.pow(2) - log_var.exp())\n",
    "    return BCE + KLD\n",
    "\n",
    "def train(epoch):\n",
    "    vae.train()\n",
    "    train_loss = 0\n",
    "    for batch_idx in range(400):\n",
    "        #data = torch.tensor(x.sample(n=1000).astype(np.float32).values)\n",
    "        data = torch.tensor(x[np.random.choice(range(x.shape[0]), 1000)].astype(np.float32),device=device)\n",
    "        optimizer.zero_grad()\n",
    "        \n",
    "        recon_batch, mu, log_var = vae(data)\n",
    "        loss = loss_function(recon_batch, data, mu, log_var)\n",
    "        \n",
    "        loss.backward()\n",
    "        train_loss += loss.item()\n",
    "        optimizer.step()\n",
    "        \n",
    "        if batch_idx % 100 == 0:\n",
    "            print('Train Epoch: {} [{}/{} ({:.0f}%)]\\tLoss: {:.6f}'.format(\n",
    "                epoch, batch_idx * len(data), len(train_loader.dataset),\n",
    "                100. * batch_idx / len(train_loader), loss.item() / len(data)))\n",
    "    print('====> Epoch: {} Average loss: {:.4f}'.format(epoch, train_loss / len(train_loader.dataset)))"
   ]
  },
  {
   "cell_type": "code",
   "execution_count": 73,
   "metadata": {},
   "outputs": [
    {
     "name": "stdout",
     "output_type": "stream",
     "text": [
      "tensor([[ 0.7310,  0.5311, -0.0650,  ...,  0.0887,  0.0061,  0.3594],\n",
      "        [ 0.8124, -0.2325,  0.2160,  ..., -0.0305, -0.0364,  0.9866],\n",
      "        [-0.5952, -0.1923,  0.0024,  ..., -0.0484, -0.0318,  0.7360],\n",
      "        ...,\n",
      "        [-0.9869,  1.3305,  0.9345,  ..., -0.0133, -0.0027, -0.3584],\n",
      "        [ 0.5841, -0.6408,  0.1262,  ..., -0.0050,  0.0147, -1.1644],\n",
      "        [-0.3844, -0.0949, -0.3652,  ..., -0.0896, -0.0474, -0.5841]])\n"
     ]
    }
   ],
   "source": [
    "print(torch.tensor(x[np.random.choice(range(x.shape[0]), 1000)].astype(np.float32)))"
   ]
  },
  {
   "cell_type": "code",
   "execution_count": 74,
   "metadata": {},
   "outputs": [
    {
     "name": "stdout",
     "output_type": "stream",
     "text": [
      "Train Epoch: 1 [0/165517 (0%)]\tLoss: 0.106100\n",
      "Train Epoch: 1 [100000/165517 (60%)]\tLoss: 0.002112\n",
      "Train Epoch: 1 [200000/165517 (120%)]\tLoss: 0.001190\n",
      "Train Epoch: 1 [300000/165517 (181%)]\tLoss: 0.001056\n",
      "====> Epoch: 1 Average loss: 0.0126\n",
      "Train Epoch: 2 [0/165517 (0%)]\tLoss: 0.001101\n",
      "Train Epoch: 2 [100000/165517 (60%)]\tLoss: 0.000916\n",
      "Train Epoch: 2 [200000/165517 (120%)]\tLoss: 0.001289\n",
      "Train Epoch: 2 [300000/165517 (181%)]\tLoss: 0.001103\n",
      "====> Epoch: 2 Average loss: 0.0048\n",
      "Train Epoch: 3 [0/165517 (0%)]\tLoss: 0.000790\n",
      "Train Epoch: 3 [100000/165517 (60%)]\tLoss: 0.000856\n",
      "Train Epoch: 3 [200000/165517 (120%)]\tLoss: 0.000784\n",
      "Train Epoch: 3 [300000/165517 (181%)]\tLoss: 0.000716\n",
      "====> Epoch: 3 Average loss: 0.0029\n",
      "Train Epoch: 4 [0/165517 (0%)]\tLoss: 0.001404\n",
      "Train Epoch: 4 [100000/165517 (60%)]\tLoss: 0.000785\n",
      "Train Epoch: 4 [200000/165517 (120%)]\tLoss: 0.001019\n",
      "Train Epoch: 4 [300000/165517 (181%)]\tLoss: 0.001173\n",
      "====> Epoch: 4 Average loss: 0.0025\n"
     ]
    }
   ],
   "source": [
    "\n",
    "for epoch in range(1, 5):\n",
    "    train(epoch)"
   ]
  },
  {
   "cell_type": "code",
   "execution_count": 77,
   "metadata": {},
   "outputs": [],
   "source": [
    "mu, log_var = vae.encoder(torch.tensor(x.astype(np.float32),device=device))"
   ]
  },
  {
   "cell_type": "code",
   "execution_count": 80,
   "metadata": {},
   "outputs": [],
   "source": [
    "embed = vae.sampling(mu, log_var).detach().cpu()"
   ]
  },
  {
   "cell_type": "code",
   "execution_count": 81,
   "metadata": {},
   "outputs": [
    {
     "data": {
      "text/plain": [
       "tensor([[-0.8148,  1.5286, -0.7025,  ..., -0.2645, -0.7607, -0.7815],\n",
       "        [-0.0167, -1.0822, -0.2061,  ..., -0.4808, -0.4946, -0.5744],\n",
       "        [-0.0407,  1.0159,  1.2432,  ..., -0.0250,  0.6971, -0.0362],\n",
       "        ...,\n",
       "        [ 1.4579,  1.1353,  0.9072,  ..., -0.3978, -0.2218,  1.2341],\n",
       "        [ 1.4502, -0.8096,  1.5522,  ..., -1.4824,  0.5877, -0.0657],\n",
       "        [ 0.9307,  1.0004, -1.1981,  ...,  0.0682, -1.1121, -0.4507]])"
      ]
     },
     "metadata": {},
     "output_type": "display_data"
    }
   ],
   "source": [
    "display(embed)"
   ]
  },
  {
   "cell_type": "code",
   "execution_count": 82,
   "metadata": {},
   "outputs": [],
   "source": [
    "hdbScan = hdbscan.HDBSCAN(allow_single_cluster=True, min_samples=1).fit(embed)"
   ]
  },
  {
   "cell_type": "code",
   "execution_count": 84,
   "metadata": {},
   "outputs": [
    {
     "data": {
      "text/plain": [
       "(0.003623753575411278, 0.4077475080109101, 0.007183664139890444)"
      ]
     },
     "execution_count": 84,
     "metadata": {},
     "output_type": "execute_result"
    }
   ],
   "source": [
    "homogeneity_completeness_v_measure(y, hdbScan.labels_)"
   ]
  },
  {
   "cell_type": "code",
   "execution_count": null,
   "metadata": {},
   "outputs": [],
   "source": []
  }
 ],
 "metadata": {
  "kernelspec": {
   "display_name": "Python 3",
   "language": "python",
   "name": "python3"
  },
  "language_info": {
   "codemirror_mode": {
    "name": "ipython",
    "version": 3
   },
   "file_extension": ".py",
   "mimetype": "text/x-python",
   "name": "python",
   "nbconvert_exporter": "python",
   "pygments_lexer": "ipython3",
   "version": "3.7.4"
  }
 },
 "nbformat": 4,
 "nbformat_minor": 2
}
